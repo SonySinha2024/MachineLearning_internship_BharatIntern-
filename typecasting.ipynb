{
 "cells": [
  {
   "cell_type": "code",
   "execution_count": 8,
   "id": "f45651e6",
   "metadata": {},
   "outputs": [],
   "source": [
    "#integer\n",
    "x = 2"
   ]
  },
  {
   "cell_type": "code",
   "execution_count": 2,
   "id": "f67eb581",
   "metadata": {},
   "outputs": [],
   "source": [
    "distance = [10,15,17,26]\n",
    "time = [.30,.47,.55,1.20]"
   ]
  },
  {
   "cell_type": "code",
   "execution_count": 3,
   "id": "385398d7",
   "metadata": {},
   "outputs": [
    {
     "ename": "TypeError",
     "evalue": "unsupported operand type(s) for /: 'list' and 'list'",
     "output_type": "error",
     "traceback": [
      "\u001b[1;31m---------------------------------------------------------------------------\u001b[0m",
      "\u001b[1;31mTypeError\u001b[0m                                 Traceback (most recent call last)",
      "\u001b[1;32m<ipython-input-3-20a7f05c102d>\u001b[0m in \u001b[0;36m<module>\u001b[1;34m\u001b[0m\n\u001b[1;32m----> 1\u001b[1;33m \u001b[0mspeed\u001b[0m \u001b[1;33m=\u001b[0m \u001b[0mdistance\u001b[0m\u001b[1;33m/\u001b[0m\u001b[0mtime\u001b[0m\u001b[1;33m\u001b[0m\u001b[1;33m\u001b[0m\u001b[0m\n\u001b[0m",
      "\u001b[1;31mTypeError\u001b[0m: unsupported operand type(s) for /: 'list' and 'list'"
     ]
    }
   ],
   "source": [
    "speed = distance/time"
   ]
  },
  {
   "cell_type": "code",
   "execution_count": 4,
   "id": "886fa87c",
   "metadata": {},
   "outputs": [],
   "source": [
    "import numpy as np"
   ]
  },
  {
   "cell_type": "code",
   "execution_count": 5,
   "id": "49b85bc0",
   "metadata": {},
   "outputs": [],
   "source": [
    "dist_ary = np.array(distance)\n",
    "time_ary = np.array(time)"
   ]
  },
  {
   "cell_type": "code",
   "execution_count": 6,
   "id": "67c6ea8a",
   "metadata": {},
   "outputs": [],
   "source": [
    "speed = dist_ary/time_ary"
   ]
  },
  {
   "cell_type": "code",
   "execution_count": 7,
   "id": "41e412cc",
   "metadata": {},
   "outputs": [
    {
     "data": {
      "text/plain": [
       "array([33.33333333, 31.91489362, 30.90909091, 21.66666667])"
      ]
     },
     "execution_count": 7,
     "metadata": {},
     "output_type": "execute_result"
    }
   ],
   "source": [
    "speed"
   ]
  },
  {
   "cell_type": "code",
   "execution_count": 3,
   "id": "56265184",
   "metadata": {},
   "outputs": [
    {
     "name": "stdout",
     "output_type": "stream",
     "text": [
      "2\n"
     ]
    }
   ],
   "source": [
    "print(x)"
   ]
  },
  {
   "cell_type": "code",
   "execution_count": 3,
   "id": "8108a841",
   "metadata": {},
   "outputs": [
    {
     "data": {
      "text/plain": [
       "int"
      ]
     },
     "execution_count": 3,
     "metadata": {},
     "output_type": "execute_result"
    }
   ],
   "source": [
    "type(x)"
   ]
  },
  {
   "cell_type": "code",
   "execution_count": 5,
   "id": "e5c599c8",
   "metadata": {},
   "outputs": [],
   "source": [
    "#float/double\n",
    "y=12.5"
   ]
  },
  {
   "cell_type": "code",
   "execution_count": 6,
   "id": "9744c0de",
   "metadata": {},
   "outputs": [
    {
     "name": "stdout",
     "output_type": "stream",
     "text": [
      "12.5\n"
     ]
    }
   ],
   "source": [
    "print(y)"
   ]
  },
  {
   "cell_type": "code",
   "execution_count": 6,
   "id": "937bfcea",
   "metadata": {},
   "outputs": [
    {
     "data": {
      "text/plain": [
       "float"
      ]
     },
     "execution_count": 6,
     "metadata": {},
     "output_type": "execute_result"
    }
   ],
   "source": [
    "type(y)"
   ]
  },
  {
   "cell_type": "markdown",
   "id": "c2874fa1",
   "metadata": {},
   "source": [
    "---"
   ]
  },
  {
   "cell_type": "markdown",
   "id": "04bb6891",
   "metadata": {},
   "source": [
    "---"
   ]
  },
  {
   "cell_type": "code",
   "execution_count": 7,
   "id": "2c446c7c",
   "metadata": {},
   "outputs": [],
   "source": [
    "#String"
   ]
  },
  {
   "cell_type": "code",
   "execution_count": 9,
   "id": "b8d6f96e",
   "metadata": {},
   "outputs": [],
   "source": [
    "a=\"Hello\"\n",
    "b = '23'\n",
    "c = \"\"\"\"56.9\"\"\""
   ]
  },
  {
   "cell_type": "code",
   "execution_count": 12,
   "id": "c2288a38",
   "metadata": {},
   "outputs": [
    {
     "data": {
      "text/plain": [
       "(str, str, str)"
      ]
     },
     "execution_count": 12,
     "metadata": {},
     "output_type": "execute_result"
    }
   ],
   "source": [
    "type(a),type(b),type(c)"
   ]
  },
  {
   "cell_type": "code",
   "execution_count": 11,
   "id": "7ef569ab",
   "metadata": {},
   "outputs": [
    {
     "data": {
      "text/plain": [
       "'Hello'"
      ]
     },
     "execution_count": 11,
     "metadata": {},
     "output_type": "execute_result"
    }
   ],
   "source": [
    "a"
   ]
  },
  {
   "cell_type": "code",
   "execution_count": 8,
   "id": "620d9d59",
   "metadata": {},
   "outputs": [
    {
     "data": {
      "text/plain": [
       "str"
      ]
     },
     "execution_count": 8,
     "metadata": {},
     "output_type": "execute_result"
    }
   ],
   "source": [
    "type(a)"
   ]
  },
  {
   "cell_type": "code",
   "execution_count": 10,
   "id": "fea02846",
   "metadata": {},
   "outputs": [
    {
     "data": {
      "text/plain": [
       "\"'56.9'\""
      ]
     },
     "execution_count": 10,
     "metadata": {},
     "output_type": "execute_result"
    }
   ],
   "source": [
    "c"
   ]
  },
  {
   "cell_type": "code",
   "execution_count": 9,
   "id": "3e211800",
   "metadata": {},
   "outputs": [
    {
     "data": {
      "text/plain": [
       "str"
      ]
     },
     "execution_count": 9,
     "metadata": {},
     "output_type": "execute_result"
    }
   ],
   "source": [
    "type(b)"
   ]
  },
  {
   "cell_type": "code",
   "execution_count": 11,
   "id": "24903d3e",
   "metadata": {},
   "outputs": [
    {
     "data": {
      "text/plain": [
       "str"
      ]
     },
     "execution_count": 11,
     "metadata": {},
     "output_type": "execute_result"
    }
   ],
   "source": [
    "type(c)"
   ]
  },
  {
   "cell_type": "code",
   "execution_count": 16,
   "id": "b8627d48",
   "metadata": {},
   "outputs": [],
   "source": [
    "chr=a"
   ]
  },
  {
   "cell_type": "code",
   "execution_count": 17,
   "id": "9f26981f",
   "metadata": {},
   "outputs": [
    {
     "data": {
      "text/plain": [
       "str"
      ]
     },
     "execution_count": 17,
     "metadata": {},
     "output_type": "execute_result"
    }
   ],
   "source": [
    "type(chr)"
   ]
  },
  {
   "cell_type": "markdown",
   "id": "8c155d1c",
   "metadata": {},
   "source": [
    "----"
   ]
  },
  {
   "cell_type": "code",
   "execution_count": 13,
   "id": "ca16f5ee",
   "metadata": {},
   "outputs": [],
   "source": [
    "#Logical/Boolean"
   ]
  },
  {
   "cell_type": "code",
   "execution_count": 18,
   "id": "190e209a",
   "metadata": {},
   "outputs": [],
   "source": [
    "q1 = True"
   ]
  },
  {
   "cell_type": "code",
   "execution_count": 19,
   "id": "796156e6",
   "metadata": {},
   "outputs": [
    {
     "data": {
      "text/plain": [
       "True"
      ]
     },
     "execution_count": 19,
     "metadata": {},
     "output_type": "execute_result"
    }
   ],
   "source": [
    "q1"
   ]
  },
  {
   "cell_type": "code",
   "execution_count": 20,
   "id": "13e65332",
   "metadata": {},
   "outputs": [
    {
     "data": {
      "text/plain": [
       "bool"
      ]
     },
     "execution_count": 20,
     "metadata": {},
     "output_type": "execute_result"
    }
   ],
   "source": [
    "type(q1)"
   ]
  },
  {
   "cell_type": "code",
   "execution_count": 24,
   "id": "6a068bdc",
   "metadata": {},
   "outputs": [],
   "source": [
    "q2 = False"
   ]
  },
  {
   "cell_type": "code",
   "execution_count": 25,
   "id": "7f929ed6",
   "metadata": {},
   "outputs": [
    {
     "data": {
      "text/plain": [
       "bool"
      ]
     },
     "execution_count": 25,
     "metadata": {},
     "output_type": "execute_result"
    }
   ],
   "source": [
    "type(q2)"
   ]
  },
  {
   "cell_type": "code",
   "execution_count": 2,
   "id": "772677ae",
   "metadata": {},
   "outputs": [],
   "source": [
    "integer_x,interger_y,integer_z = 5,22,78  #Multiple assignments issue"
   ]
  },
  {
   "cell_type": "code",
   "execution_count": 27,
   "id": "c052a203",
   "metadata": {},
   "outputs": [
    {
     "data": {
      "text/plain": [
       "78"
      ]
     },
     "execution_count": 27,
     "metadata": {},
     "output_type": "execute_result"
    }
   ],
   "source": [
    "integer_x\n",
    "interger_y\n",
    "integer_z\n",
    "\n"
   ]
  },
  {
   "cell_type": "code",
   "execution_count": 29,
   "id": "b598ca8d",
   "metadata": {},
   "outputs": [
    {
     "name": "stdout",
     "output_type": "stream",
     "text": [
      "5 22 78\n"
     ]
    }
   ],
   "source": [
    "print(integer_x,interger_y,integer_z)\n"
   ]
  },
  {
   "cell_type": "code",
   "execution_count": 30,
   "id": "47dc6178",
   "metadata": {},
   "outputs": [
    {
     "data": {
      "text/plain": [
       "(5, 22, 78)"
      ]
     },
     "execution_count": 30,
     "metadata": {},
     "output_type": "execute_result"
    }
   ],
   "source": [
    "integer_x,interger_y,integer_z    #this code will not give us the correct output as we get \"tuple\" as the result\n"
   ]
  },
  {
   "cell_type": "code",
   "execution_count": 18,
   "id": "77228bce",
   "metadata": {},
   "outputs": [
    {
     "data": {
      "text/plain": [
       "True"
      ]
     },
     "execution_count": 18,
     "metadata": {},
     "output_type": "execute_result"
    }
   ],
   "source": [
    "A = None\n",
    "A is None"
   ]
  },
  {
   "cell_type": "code",
   "execution_count": 19,
   "id": "610e272e",
   "metadata": {},
   "outputs": [
    {
     "data": {
      "text/plain": [
       "False"
      ]
     },
     "execution_count": 19,
     "metadata": {},
     "output_type": "execute_result"
    }
   ],
   "source": [
    "B = 10\n",
    "B is None"
   ]
  },
  {
   "cell_type": "markdown",
   "id": "c535677b",
   "metadata": {},
   "source": [
    "## Typecasting numbers In Python, Type Casting is a process in which we convert a data value of one type to another."
   ]
  },
  {
   "cell_type": "code",
   "execution_count": 12,
   "id": "8dc3fce5",
   "metadata": {},
   "outputs": [
    {
     "name": "stdout",
     "output_type": "stream",
     "text": [
      "100.0\n",
      "100\n"
     ]
    },
    {
     "data": {
      "text/plain": [
       "str"
      ]
     },
     "execution_count": 12,
     "metadata": {},
     "output_type": "execute_result"
    }
   ],
   "source": [
    "#Type Cast int to float and string\n",
    "#integer\n",
    "n = 100\n",
    "\n",
    "#float\n",
    "f = float(n)\n",
    "print(f)\n",
    "type(f)\n",
    "\n",
    "#string\n",
    "s = str(n)\n",
    "print(s)\n",
    "type(s)"
   ]
  },
  {
   "cell_type": "code",
   "execution_count": 13,
   "id": "711ff3c2",
   "metadata": {},
   "outputs": [
    {
     "name": "stdout",
     "output_type": "stream",
     "text": [
      "100\n",
      "<class 'int'>\n",
      "100.05\n",
      "<class 'str'>\n"
     ]
    }
   ],
   "source": [
    "#Type Cast float to int and string\n",
    "#float\n",
    "f = 100.05\n",
    "\n",
    "#integer\n",
    "n = int(f)\n",
    "print(n)\n",
    "print(type(n))\n",
    "\n",
    "#string\n",
    "s = str(f)\n",
    "print(s)\n",
    "print(type(s))"
   ]
  },
  {
   "cell_type": "code",
   "execution_count": 13,
   "id": "80433e41",
   "metadata": {},
   "outputs": [],
   "source": [
    "var = '100'"
   ]
  },
  {
   "cell_type": "code",
   "execution_count": 14,
   "id": "288386e9",
   "metadata": {},
   "outputs": [
    {
     "data": {
      "text/plain": [
       "str"
      ]
     },
     "execution_count": 14,
     "metadata": {},
     "output_type": "execute_result"
    }
   ],
   "source": [
    "type(var)"
   ]
  },
  {
   "cell_type": "markdown",
   "id": "0a329573",
   "metadata": {},
   "source": [
    "## if you have decimal point in the string, you cannot typecast that directly to an integer. You should first typecast string to float and then that to integer. "
   ]
  },
  {
   "cell_type": "code",
   "execution_count": 22,
   "id": "9904fc3b",
   "metadata": {},
   "outputs": [
    {
     "name": "stdout",
     "output_type": "stream",
     "text": [
      "132\n",
      "<class 'int'>\n",
      "132.65\n",
      "<class 'float'>\n"
     ]
    }
   ],
   "source": [
    "##string\n",
    "s = '132.65'\n",
    "\n",
    "#typecast to integer\n",
    "n = int(float(s))\n",
    "#m = int(n)\n",
    "print(n)\n",
    "print(type(n))\n",
    "\n",
    "#typecast to float\n",
    "f = float(s)\n",
    "print(f)\n",
    "print(type(f))"
   ]
  },
  {
   "cell_type": "markdown",
   "id": "8dd675ad",
   "metadata": {},
   "source": [
    "## Tuple is one of 4 built-in data types in Python used to store collections of data, the other 3 are List, Set, and Dictionary, all with different qualities and usage.A tuple is a collection which is ordered and unchangeable.Tuples are written with round brackets. Commas are very important in tuples,tuples contain mixed data types"
   ]
  },
  {
   "cell_type": "code",
   "execution_count": 5,
   "id": "7c14b71f",
   "metadata": {},
   "outputs": [
    {
     "name": "stdout",
     "output_type": "stream",
     "text": [
      "('va', 'ab', '45.9', '99', (7, 9), 'hello')\n"
     ]
    }
   ],
   "source": [
    "#Create a tuple\n",
    "#my_tuple = (\"A\", \"BA\", \"CC\")\n",
    "my_tuple2 = (\"va\",\"ab\",\"45.9\",\"99\",(7,9),\"hello\")\n",
    "print(my_tuple2)"
   ]
  },
  {
   "cell_type": "code",
   "execution_count": 15,
   "id": "131e2c7c",
   "metadata": {},
   "outputs": [],
   "source": [
    "T1 = (12,'Hello',89.5,(4,3),\"\"\"vb\"\"\") # This tuple T1 contains all the data types"
   ]
  },
  {
   "cell_type": "code",
   "execution_count": 16,
   "id": "73944c65",
   "metadata": {},
   "outputs": [
    {
     "data": {
      "text/plain": [
       "(12, 'Hello', 89.5, (4, 3), 'vb')"
      ]
     },
     "execution_count": 16,
     "metadata": {},
     "output_type": "execute_result"
    }
   ],
   "source": [
    "T1"
   ]
  },
  {
   "cell_type": "code",
   "execution_count": 17,
   "id": "0b2d51da",
   "metadata": {},
   "outputs": [
    {
     "data": {
      "text/plain": [
       "89.5"
      ]
     },
     "execution_count": 17,
     "metadata": {},
     "output_type": "execute_result"
    }
   ],
   "source": [
    "T1[2]"
   ]
  },
  {
   "cell_type": "code",
   "execution_count": 18,
   "id": "ba2e7b48",
   "metadata": {},
   "outputs": [
    {
     "ename": "TypeError",
     "evalue": "'tuple' object does not support item assignment",
     "output_type": "error",
     "traceback": [
      "\u001b[1;31m---------------------------------------------------------------------------\u001b[0m",
      "\u001b[1;31mTypeError\u001b[0m                                 Traceback (most recent call last)",
      "\u001b[1;32m<ipython-input-18-0e0ed50b5e31>\u001b[0m in \u001b[0;36m<module>\u001b[1;34m\u001b[0m\n\u001b[1;32m----> 1\u001b[1;33m \u001b[0mT1\u001b[0m\u001b[1;33m[\u001b[0m\u001b[1;36m2\u001b[0m\u001b[1;33m]\u001b[0m \u001b[1;33m=\u001b[0m \u001b[1;36m45.9\u001b[0m\u001b[1;33m\u001b[0m\u001b[1;33m\u001b[0m\u001b[0m\n\u001b[0m",
      "\u001b[1;31mTypeError\u001b[0m: 'tuple' object does not support item assignment"
     ]
    }
   ],
   "source": [
    "T1[2] = 45.9"
   ]
  },
  {
   "cell_type": "code",
   "execution_count": 17,
   "id": "4a09bdf0",
   "metadata": {},
   "outputs": [
    {
     "name": "stdout",
     "output_type": "stream",
     "text": [
      "('A', 'BA', 'CC', 'A', (2, 3))\n"
     ]
    }
   ],
   "source": [
    "#Tuples allow duplicate values:\n",
    "my_tuple1 = (\"A\", \"BA\", \"CC\",\"A\",(2,3))\n",
    "print(my_tuple1)"
   ]
  },
  {
   "cell_type": "code",
   "execution_count": 6,
   "id": "2ad7a93e",
   "metadata": {},
   "outputs": [
    {
     "data": {
      "text/plain": [
       "4"
      ]
     },
     "execution_count": 6,
     "metadata": {},
     "output_type": "execute_result"
    }
   ],
   "source": [
    "#Print the number of items in the tuple\n",
    "my_tuple1 = (\"A\", \"BA\", \"CC\",\"A\")  #len is the length of a tuple,it gives the No of elements within the data structure\n",
    "len(my_tuple1)"
   ]
  },
  {
   "cell_type": "code",
   "execution_count": 7,
   "id": "660aa55b",
   "metadata": {},
   "outputs": [
    {
     "name": "stdout",
     "output_type": "stream",
     "text": [
      "<class 'tuple'>\n",
      "<class 'str'>\n"
     ]
    }
   ],
   "source": [
    "#One item tuple, remember the comma:\n",
    "mytuple3 = (\"tupple\",)\n",
    "print(type(mytuple3))\n",
    "\n",
    "#NOT a tuple\n",
    "tupleno = (\"apple\")\n",
    "print(type(tupleno))"
   ]
  },
  {
   "cell_type": "code",
   "execution_count": 8,
   "id": "789d085c",
   "metadata": {},
   "outputs": [
    {
     "data": {
      "text/plain": [
       "tuple"
      ]
     },
     "execution_count": 8,
     "metadata": {},
     "output_type": "execute_result"
    }
   ],
   "source": [
    "tupleno1 = (\"apple\",)\n",
    "type(tupleno1)"
   ]
  },
  {
   "cell_type": "code",
   "execution_count": 9,
   "id": "1bd7dc71",
   "metadata": {},
   "outputs": [],
   "source": [
    "#Tuple items can be of any data type:\n",
    "tuple1 = (\"alice\", \"Jenny\", \"clara\")\n",
    "tuple2 = (1, 5, 7, 9, 3)\n",
    "tuple3 = (True, False, False)"
   ]
  },
  {
   "cell_type": "code",
   "execution_count": 29,
   "id": "262ed94d",
   "metadata": {},
   "outputs": [
    {
     "name": "stdout",
     "output_type": "stream",
     "text": [
      "<class 'tuple'>\n"
     ]
    }
   ],
   "source": [
    "#A tuple can contain different data types,and tuples are defined as objects with the data type 'tuple'\n",
    "t1 = (\"abc\", 34, True, 40.5, \"male\")\n",
    "print(type(t1))"
   ]
  },
  {
   "cell_type": "code",
   "execution_count": 30,
   "id": "93b103c1",
   "metadata": {},
   "outputs": [
    {
     "data": {
      "text/plain": [
       "40.5"
      ]
     },
     "execution_count": 30,
     "metadata": {},
     "output_type": "execute_result"
    }
   ],
   "source": [
    "#Accessing items of a tuple\n",
    "t1[3]"
   ]
  },
  {
   "cell_type": "code",
   "execution_count": 12,
   "id": "525711ef",
   "metadata": {},
   "outputs": [
    {
     "name": "stdout",
     "output_type": "stream",
     "text": [
      "True\n"
     ]
    }
   ],
   "source": [
    "print(t1[-3])"
   ]
  },
  {
   "cell_type": "markdown",
   "id": "37679c51",
   "metadata": {},
   "source": [
    "## 0---1---2--3= positive indices.(left to right)                  \n",
    "## negetive indices start from -1--(-2)---(-3) right to left    "
   ]
  },
  {
   "cell_type": "code",
   "execution_count": 24,
   "id": "519a909f",
   "metadata": {},
   "outputs": [
    {
     "data": {
      "text/plain": [
       "('Mary', 45.6, 'second')"
      ]
     },
     "execution_count": 24,
     "metadata": {},
     "output_type": "execute_result"
    }
   ],
   "source": [
    "#Slicing Tuples\n",
    "tuple2 = (12,\"Mary\",45.6,'second',(3,2),'test')  #COUNTS START AT THE FIRST INDEX BUT STOPS BEFORE THE SECOND INDEX\n",
    "subset = tuple2[1:4]\n",
    "subset"
   ]
  },
  {
   "cell_type": "code",
   "execution_count": 25,
   "id": "c53d1cd3",
   "metadata": {},
   "outputs": [
    {
     "data": {
      "text/plain": [
       "('Mary', 45.6, 'second', (3, 2))"
      ]
     },
     "execution_count": 25,
     "metadata": {},
     "output_type": "execute_result"
    }
   ],
   "source": [
    "subset2 = tuple2[1:-1]\n",
    "subset2"
   ]
  },
  {
   "cell_type": "code",
   "execution_count": 26,
   "id": "0d8ffb6a",
   "metadata": {},
   "outputs": [
    {
     "data": {
      "text/plain": [
       "('second', (3, 2))"
      ]
     },
     "execution_count": 26,
     "metadata": {},
     "output_type": "execute_result"
    }
   ],
   "source": [
    "subset3 = tuple2[-3:-1]\n",
    "subset3"
   ]
  },
  {
   "cell_type": "markdown",
   "id": "355b96cf",
   "metadata": {},
   "source": [
    "## Lists: Unlike tuples,are one dimentional,mutable(changeable) and contains mixed data types."
   ]
  },
  {
   "cell_type": "code",
   "execution_count": 1,
   "id": "9dea5483",
   "metadata": {},
   "outputs": [],
   "source": [
    "list1 = [\"abc\", 34, True, 40, \"male\"]"
   ]
  },
  {
   "cell_type": "code",
   "execution_count": 2,
   "id": "9bd0c582",
   "metadata": {},
   "outputs": [
    {
     "data": {
      "text/plain": [
       "['abc', 34, True, 40, 'male']"
      ]
     },
     "execution_count": 2,
     "metadata": {},
     "output_type": "execute_result"
    }
   ],
   "source": [
    "list1"
   ]
  },
  {
   "cell_type": "code",
   "execution_count": 3,
   "id": "509aef53",
   "metadata": {},
   "outputs": [],
   "source": [
    "#Using append function\n",
    "list1.append(\"Jack\")"
   ]
  },
  {
   "cell_type": "code",
   "execution_count": 4,
   "id": "89b7f9fb",
   "metadata": {},
   "outputs": [
    {
     "data": {
      "text/plain": [
       "['abc', 34, True, 40, 'male', 'Jack']"
      ]
     },
     "execution_count": 4,
     "metadata": {},
     "output_type": "execute_result"
    }
   ],
   "source": [
    "list1"
   ]
  },
  {
   "cell_type": "code",
   "execution_count": 24,
   "id": "39105a75",
   "metadata": {},
   "outputs": [],
   "source": [
    "#remove function\n",
    "list1.remove(\"abc\")"
   ]
  },
  {
   "cell_type": "code",
   "execution_count": 25,
   "id": "59fd5fb5",
   "metadata": {},
   "outputs": [
    {
     "name": "stdout",
     "output_type": "stream",
     "text": [
      "[34, True, 40, 'male', 'Jack']\n"
     ]
    }
   ],
   "source": [
    "print(list1)"
   ]
  },
  {
   "cell_type": "markdown",
   "id": "991d3c38",
   "metadata": {},
   "source": [
    "## Shows that lists are mutable"
   ]
  },
  {
   "cell_type": "code",
   "execution_count": 26,
   "id": "41a78b71",
   "metadata": {},
   "outputs": [
    {
     "data": {
      "text/plain": [
       "40"
      ]
     },
     "execution_count": 26,
     "metadata": {},
     "output_type": "execute_result"
    }
   ],
   "source": [
    "#using pop() function,Remove the second element of list1:\n",
    "list1.pop(2)"
   ]
  },
  {
   "cell_type": "code",
   "execution_count": 27,
   "id": "bfd505f9",
   "metadata": {},
   "outputs": [
    {
     "data": {
      "text/plain": [
       "[34, True, 'male', 'Jack']"
      ]
     },
     "execution_count": 27,
     "metadata": {},
     "output_type": "execute_result"
    }
   ],
   "source": [
    "#display list1\n",
    "list1      #value 40 is removed"
   ]
  },
  {
   "cell_type": "code",
   "execution_count": 28,
   "id": "aa207bed",
   "metadata": {},
   "outputs": [],
   "source": [
    "#Insert function---we will insert a string \"madhu\" in list1\n",
    "list1.insert(2,\"madhu\")\n"
   ]
  },
  {
   "cell_type": "code",
   "execution_count": 29,
   "id": "6312849a",
   "metadata": {},
   "outputs": [
    {
     "data": {
      "text/plain": [
       "[34, True, 'madhu', 'male', 'Jack']"
      ]
     },
     "execution_count": 29,
     "metadata": {},
     "output_type": "execute_result"
    }
   ],
   "source": [
    "list1"
   ]
  },
  {
   "cell_type": "markdown",
   "id": "3452b701",
   "metadata": {},
   "source": [
    "## Accessing elements of a list"
   ]
  },
  {
   "cell_type": "code",
   "execution_count": 44,
   "id": "43564db5",
   "metadata": {},
   "outputs": [],
   "source": [
    "list2 =[\"jack\",89.5, False,77,None,'Mary'] # None belongs to a distinct datatype called NoneType"
   ]
  },
  {
   "cell_type": "code",
   "execution_count": 45,
   "id": "217fb9dd",
   "metadata": {},
   "outputs": [
    {
     "data": {
      "text/plain": [
       "['jack', 89.5, False, 77, None, 'Mary']"
      ]
     },
     "execution_count": 45,
     "metadata": {},
     "output_type": "execute_result"
    }
   ],
   "source": [
    "list2"
   ]
  },
  {
   "cell_type": "code",
   "execution_count": 47,
   "id": "20c23a3f",
   "metadata": {},
   "outputs": [
    {
     "data": {
      "text/plain": [
       "False"
      ]
     },
     "execution_count": 47,
     "metadata": {},
     "output_type": "execute_result"
    }
   ],
   "source": [
    "#accessing elements using the positive index\n",
    "list2[2]      #in case you put list2[2,3] it will become atuple and throw errors."
   ]
  },
  {
   "cell_type": "code",
   "execution_count": 49,
   "id": "fb8cd03a",
   "metadata": {},
   "outputs": [
    {
     "data": {
      "text/plain": [
       "77"
      ]
     },
     "execution_count": 49,
     "metadata": {},
     "output_type": "execute_result"
    }
   ],
   "source": [
    "#Using negetive indices to access elements of a list\n",
    "list2[-3]"
   ]
  },
  {
   "cell_type": "code",
   "execution_count": 51,
   "id": "47d163c1",
   "metadata": {},
   "outputs": [
    {
     "data": {
      "text/plain": [
       "[89.5, False, 77]"
      ]
     },
     "execution_count": 51,
     "metadata": {},
     "output_type": "execute_result"
    }
   ],
   "source": [
    "#accessing elements of a list through indices\n",
    "list2[1:4]       #it will fetch 1st,2nd and 3rd elements only."
   ]
  },
  {
   "cell_type": "code",
   "execution_count": 39,
   "id": "3606c93a",
   "metadata": {},
   "outputs": [],
   "source": [
    "list3 = [1,4,5,6,8]"
   ]
  },
  {
   "cell_type": "code",
   "execution_count": 40,
   "id": "2c88009f",
   "metadata": {},
   "outputs": [],
   "source": [
    "m,n = list3[1],list3[3]"
   ]
  },
  {
   "cell_type": "code",
   "execution_count": 43,
   "id": "512eb329",
   "metadata": {},
   "outputs": [
    {
     "name": "stdout",
     "output_type": "stream",
     "text": [
      "[4, 5, 6]\n"
     ]
    }
   ],
   "source": [
    "out = list((list3[1],list3[2],list3[3]))\n",
    "print(out)"
   ]
  },
  {
   "cell_type": "code",
   "execution_count": 35,
   "id": "03a253f3",
   "metadata": {},
   "outputs": [
    {
     "data": {
      "text/plain": [
       "(4, 6)"
      ]
     },
     "execution_count": 35,
     "metadata": {},
     "output_type": "execute_result"
    }
   ],
   "source": [
    "m,n"
   ]
  },
  {
   "cell_type": "code",
   "execution_count": 36,
   "id": "5887f20c",
   "metadata": {},
   "outputs": [
    {
     "data": {
      "text/plain": [
       "4"
      ]
     },
     "execution_count": 36,
     "metadata": {},
     "output_type": "execute_result"
    }
   ],
   "source": [
    "m"
   ]
  },
  {
   "cell_type": "code",
   "execution_count": 37,
   "id": "351cf609",
   "metadata": {},
   "outputs": [
    {
     "data": {
      "text/plain": [
       "6"
      ]
     },
     "execution_count": 37,
     "metadata": {},
     "output_type": "execute_result"
    }
   ],
   "source": [
    "n"
   ]
  },
  {
   "cell_type": "markdown",
   "id": "95d43364",
   "metadata": {},
   "source": [
    "## Discard function"
   ]
  },
  {
   "cell_type": "code",
   "execution_count": 6,
   "id": "ed6d6d45",
   "metadata": {},
   "outputs": [],
   "source": [
    "set1 ={1,2,3,4,5}"
   ]
  },
  {
   "cell_type": "code",
   "execution_count": 8,
   "id": "249ede96",
   "metadata": {},
   "outputs": [],
   "source": [
    "set1.discard(3)"
   ]
  },
  {
   "cell_type": "code",
   "execution_count": 10,
   "id": "327dad19",
   "metadata": {},
   "outputs": [
    {
     "name": "stdout",
     "output_type": "stream",
     "text": [
      "{1, 2, 4, 5}\n"
     ]
    }
   ],
   "source": [
    "print(set1)"
   ]
  },
  {
   "cell_type": "code",
   "execution_count": 11,
   "id": "154e744f",
   "metadata": {},
   "outputs": [],
   "source": [
    "set1.discard(8)"
   ]
  },
  {
   "cell_type": "code",
   "execution_count": 12,
   "id": "6fb37379",
   "metadata": {},
   "outputs": [
    {
     "name": "stdout",
     "output_type": "stream",
     "text": [
      "{1, 2, 4, 5}\n"
     ]
    }
   ],
   "source": [
    "print(set1)"
   ]
  },
  {
   "cell_type": "markdown",
   "id": "e13cefa1",
   "metadata": {},
   "source": [
    "### pop() function-example 2"
   ]
  },
  {
   "cell_type": "code",
   "execution_count": 14,
   "id": "aee29846",
   "metadata": {},
   "outputs": [],
   "source": [
    "list3 = [\"abc\",78,99,\"john\",103.2]"
   ]
  },
  {
   "cell_type": "code",
   "execution_count": 15,
   "id": "fa81eb6d",
   "metadata": {},
   "outputs": [
    {
     "data": {
      "text/plain": [
       "'john'"
      ]
     },
     "execution_count": 15,
     "metadata": {},
     "output_type": "execute_result"
    }
   ],
   "source": [
    "list3.pop(3)"
   ]
  },
  {
   "cell_type": "code",
   "execution_count": 16,
   "id": "e4a2bfb6",
   "metadata": {},
   "outputs": [
    {
     "data": {
      "text/plain": [
       "['abc', 78, 99, 103.2]"
      ]
     },
     "execution_count": 16,
     "metadata": {},
     "output_type": "execute_result"
    }
   ],
   "source": [
    "list3"
   ]
  },
  {
   "cell_type": "code",
   "execution_count": 17,
   "id": "ae943743",
   "metadata": {},
   "outputs": [
    {
     "name": "stdout",
     "output_type": "stream",
     "text": [
      "{'c', 'd', 'f', 'g', 'e', 'a', 'h', 'b'}\n"
     ]
    }
   ],
   "source": [
    "#update----works on sets\n",
    "set2 = {\"a\",\"b\",\"c\",\"d\"}\n",
    "set3 = {\"e\",\"f\",\"g\",\"h\"}\n",
    "set2.update(set3)\n",
    "print(set2)\n",
    "\n"
   ]
  },
  {
   "cell_type": "code",
   "execution_count": 20,
   "id": "41340670",
   "metadata": {},
   "outputs": [
    {
     "name": "stdout",
     "output_type": "stream",
     "text": [
      "{1, 2, 3, 4, 5, 7, 8, 9, 10}\n"
     ]
    }
   ],
   "source": [
    "###symmetric difference of sets\n",
    "\n",
    "M = {1,2,3,4,5,6}\n",
    "N = {6,7,8,9,10}\n",
    "print(M^N)   #eliminates the common values"
   ]
  },
  {
   "cell_type": "code",
   "execution_count": null,
   "id": "b23e2d3f",
   "metadata": {},
   "outputs": [],
   "source": []
  },
  {
   "cell_type": "code",
   "execution_count": null,
   "id": "5b375eb6",
   "metadata": {},
   "outputs": [],
   "source": []
  },
  {
   "cell_type": "markdown",
   "id": "22a5cafd",
   "metadata": {},
   "source": [
    "## Dictionaries map a set of keys to a set of values. Keys are immutable,while values can be of any data type. We use the curly brackets{} to create the key value pairs"
   ]
  },
  {
   "cell_type": "code",
   "execution_count": 45,
   "id": "255a5310",
   "metadata": {},
   "outputs": [],
   "source": [
    "#Viweing keys and values in a dictionary.\n",
    "first_dict = {'john':'travolta','kelly':'Brook','id':[34,43]}"
   ]
  },
  {
   "cell_type": "code",
   "execution_count": 46,
   "id": "8033e699",
   "metadata": {},
   "outputs": [
    {
     "data": {
      "text/plain": [
       "{'john': 'travolta', 'kelly': 'Brook', 'id': [34, 43]}"
      ]
     },
     "execution_count": 46,
     "metadata": {},
     "output_type": "execute_result"
    }
   ],
   "source": [
    "first_dict"
   ]
  },
  {
   "cell_type": "code",
   "execution_count": 47,
   "id": "37795e65",
   "metadata": {},
   "outputs": [
    {
     "data": {
      "text/plain": [
       "dict_keys(['john', 'kelly', 'id'])"
      ]
     },
     "execution_count": 47,
     "metadata": {},
     "output_type": "execute_result"
    }
   ],
   "source": [
    "first_dict.keys()"
   ]
  },
  {
   "cell_type": "code",
   "execution_count": 48,
   "id": "60779e02",
   "metadata": {},
   "outputs": [
    {
     "data": {
      "text/plain": [
       "dict_values(['travolta', 'Brook', [34, 43]])"
      ]
     },
     "execution_count": 48,
     "metadata": {},
     "output_type": "execute_result"
    }
   ],
   "source": [
    "first_dict.values()"
   ]
  },
  {
   "cell_type": "code",
   "execution_count": 49,
   "id": "2dd4efd9",
   "metadata": {},
   "outputs": [
    {
     "data": {
      "text/plain": [
       "'travolta'"
      ]
     },
     "execution_count": 49,
     "metadata": {},
     "output_type": "execute_result"
    }
   ],
   "source": [
    "#Accesing and modifying dict elements\n",
    "first_dict['john']"
   ]
  },
  {
   "cell_type": "code",
   "execution_count": 50,
   "id": "af48b6b4",
   "metadata": {},
   "outputs": [
    {
     "data": {
      "text/plain": [
       "[34, 43]"
      ]
     },
     "execution_count": 50,
     "metadata": {},
     "output_type": "execute_result"
    }
   ],
   "source": [
    "first_dict['id']"
   ]
  },
  {
   "cell_type": "code",
   "execution_count": 51,
   "id": "52aa97a9",
   "metadata": {},
   "outputs": [],
   "source": [
    "#updating values in the dictionary\n",
    "first_dict.update({'id':[32,89]})"
   ]
  },
  {
   "cell_type": "code",
   "execution_count": 52,
   "id": "23cb57c1",
   "metadata": {},
   "outputs": [
    {
     "data": {
      "text/plain": [
       "{'john': 'travolta', 'kelly': 'Brook', 'id': [32, 89]}"
      ]
     },
     "execution_count": 52,
     "metadata": {},
     "output_type": "execute_result"
    }
   ],
   "source": [
    "first_dict"
   ]
  },
  {
   "cell_type": "code",
   "execution_count": 53,
   "id": "bf0e58ff",
   "metadata": {},
   "outputs": [],
   "source": [
    "#deleting key-value pairs\n",
    "del first_dict['id']"
   ]
  },
  {
   "cell_type": "code",
   "execution_count": 54,
   "id": "097db05e",
   "metadata": {},
   "outputs": [
    {
     "data": {
      "text/plain": [
       "{'john': 'travolta', 'kelly': 'Brook'}"
      ]
     },
     "execution_count": 54,
     "metadata": {},
     "output_type": "execute_result"
    }
   ],
   "source": [
    "first_dict"
   ]
  },
  {
   "cell_type": "code",
   "execution_count": 22,
   "id": "cf5f01cd",
   "metadata": {},
   "outputs": [
    {
     "name": "stdout",
     "output_type": "stream",
     "text": [
      "{'Learner1': {'name': 'Deeksha', 'joining_date': 2022}, 'Learner2': {'name': 'abhishek', 'joining_date': 2020}, 'Learner3': {'name': 'unyime', 'joining_date': 2021}}\n"
     ]
    }
   ],
   "source": [
    "###EXAMPLE2: We have one dict (mydict) which is composed of 3 different dictionaries\n",
    "\n",
    "mydict = {\n",
    "    \"Learner1\":{\n",
    "        \"name\":\"Deeksha\",\n",
    "        \"joining_date\":2022\n",
    "    },\n",
    "    \"Learner2\" :{\n",
    "        \"name\":\"abhishek\",\n",
    "        \"joining_date\":2020\n",
    "    },\n",
    "    \"Learner3\" :{\n",
    "        \"name\":\"unyime\",\n",
    "        \"joining_date\":2021\n",
    "    }\n",
    "}\n",
    "print(mydict)\n"
   ]
  },
  {
   "cell_type": "code",
   "execution_count": 24,
   "id": "eee0909c",
   "metadata": {},
   "outputs": [
    {
     "name": "stdout",
     "output_type": "stream",
     "text": [
      "{'home1': {'number': 304, 'road': 'road1'}, 'home2': {'number': 404, 'road': 'road2'}, 'home3': {'number': 504, 'road': 'road3'}}\n"
     ]
    }
   ],
   "source": [
    "house1 = {\n",
    "    \"number\":304,\n",
    "    \"road\":\"road1\"\n",
    "}\n",
    "house2 = {\n",
    "    \"number\":404,\n",
    "    \"road\":\"road2\"\n",
    "}\n",
    "house3 = {\n",
    "    \"number\":504,\n",
    "    \"road\":\"road3\"\n",
    "}\n",
    "Got = {\n",
    "    \"home1\":house1,\n",
    "    \"home2\":house2,\n",
    "    \"home3\":house3\n",
    "}\n",
    "print(Got)"
   ]
  },
  {
   "cell_type": "code",
   "execution_count": 26,
   "id": "fb0ca08d",
   "metadata": {},
   "outputs": [
    {
     "name": "stdout",
     "output_type": "stream",
     "text": [
      "{'Addr1': {'number': 12, 'road': 'Sainath Colony'}, 'Addr2': {'number': 13, 'road': 'Sainath Colony1'}, 'Addr3': {'number': 14, 'road': 'Sainath Colony2'}}\n"
     ]
    }
   ],
   "source": [
    "house1={\n",
    "    \"number\":12,\n",
    "    \"road\":\"Sainath Colony\"\n",
    "}\n",
    "house2={\n",
    "    \"number\":13,\n",
    "    \"road\":\"Sainath Colony1\"\n",
    "}\n",
    "house3={\n",
    "    \"number\":14,\n",
    "    \"road\":\"Sainath Colony2\"\n",
    "}\n",
    "Got={\n",
    "    \"Addr1\":house1,\n",
    "    \"Addr2\":house2,\n",
    "    \"Addr3\":house3\n",
    "}\n",
    "print(Got)\n"
   ]
  },
  {
   "cell_type": "code",
   "execution_count": null,
   "id": "834716e8",
   "metadata": {},
   "outputs": [],
   "source": []
  },
  {
   "cell_type": "code",
   "execution_count": null,
   "id": "694dcaba",
   "metadata": {},
   "outputs": [],
   "source": []
  },
  {
   "cell_type": "code",
   "execution_count": null,
   "id": "966b6550",
   "metadata": {},
   "outputs": [],
   "source": []
  },
  {
   "cell_type": "code",
   "execution_count": null,
   "id": "d6bd585c",
   "metadata": {},
   "outputs": [],
   "source": []
  },
  {
   "cell_type": "code",
   "execution_count": null,
   "id": "edad4870",
   "metadata": {},
   "outputs": [],
   "source": []
  },
  {
   "cell_type": "code",
   "execution_count": null,
   "id": "4f69f1ae",
   "metadata": {},
   "outputs": [],
   "source": []
  },
  {
   "cell_type": "code",
   "execution_count": null,
   "id": "45991465",
   "metadata": {},
   "outputs": [],
   "source": []
  },
  {
   "cell_type": "code",
   "execution_count": null,
   "id": "e4b8e3dc",
   "metadata": {},
   "outputs": [],
   "source": []
  },
  {
   "cell_type": "markdown",
   "id": "d8056831",
   "metadata": {},
   "source": [
    "## A set is an unordered collection of unique elements.Sets are used to store multiple items in a single variable.Set items are unchangeable, but you can remove items and add new items.Sets are unordered, so you cannot be sure in which order the items will appear.Set items can appear in a different order every time you use them, and cannot be referred to by index or key.In sets,Duplicates are Not Allowed. We cannot change the items of the set but we can add or remove items."
   ]
  },
  {
   "cell_type": "code",
   "execution_count": 55,
   "id": "d43eeef8",
   "metadata": {},
   "outputs": [],
   "source": [
    "#Sets are written with curly brackets.\n",
    "\n",
    "set1 = {\"abc\", 34, True, 40, \"male\"}"
   ]
  },
  {
   "cell_type": "code",
   "execution_count": 56,
   "id": "d153fc1e",
   "metadata": {},
   "outputs": [
    {
     "data": {
      "text/plain": [
       "{34, 40, True, 'abc', 'male'}"
      ]
     },
     "execution_count": 56,
     "metadata": {},
     "output_type": "execute_result"
    }
   ],
   "source": [
    "set1"
   ]
  },
  {
   "cell_type": "code",
   "execution_count": 72,
   "id": "4d015590",
   "metadata": {},
   "outputs": [
    {
     "data": {
      "text/plain": [
       "set"
      ]
     },
     "execution_count": 72,
     "metadata": {},
     "output_type": "execute_result"
    }
   ],
   "source": [
    "type(set1)"
   ]
  },
  {
   "cell_type": "code",
   "execution_count": 57,
   "id": "39f87d35",
   "metadata": {},
   "outputs": [],
   "source": [
    "#Does not allow duplicates.\n",
    "set2 = {\"abc\",34,True,True,40,\"male\",\"male\",\"90.7\"}"
   ]
  },
  {
   "cell_type": "code",
   "execution_count": 75,
   "id": "6cf48c04",
   "metadata": {},
   "outputs": [
    {
     "data": {
      "text/plain": [
       "{34, 40, '90.7', True, 'abc', 'male'}"
      ]
     },
     "execution_count": 75,
     "metadata": {},
     "output_type": "execute_result"
    }
   ],
   "source": [
    "set2 #NO SPECIFIC ORDER IS FOLLOWED BY THE ELEMENTS OF THE SET."
   ]
  },
  {
   "cell_type": "markdown",
   "id": "be6f8cce",
   "metadata": {},
   "source": [
    "## Set Operations-Union(OR) and AND(Intersection) operators"
   ]
  },
  {
   "cell_type": "code",
   "execution_count": 76,
   "id": "e8cf8143",
   "metadata": {},
   "outputs": [],
   "source": [
    "combined_OR=set1|set2"
   ]
  },
  {
   "cell_type": "code",
   "execution_count": 77,
   "id": "6b0fbb81",
   "metadata": {},
   "outputs": [
    {
     "data": {
      "text/plain": [
       "{34, 40, '90.7', True, 'abc', 'male'}"
      ]
     },
     "execution_count": 77,
     "metadata": {},
     "output_type": "execute_result"
    }
   ],
   "source": [
    "combined_OR   #all elements of set1 and set2"
   ]
  },
  {
   "cell_type": "code",
   "execution_count": 78,
   "id": "b497f648",
   "metadata": {},
   "outputs": [],
   "source": [
    "Intersection_And = set1 & set2"
   ]
  },
  {
   "cell_type": "code",
   "execution_count": 79,
   "id": "8a7f90ac",
   "metadata": {},
   "outputs": [
    {
     "data": {
      "text/plain": [
       "{34, 40, True, 'abc', 'male'}"
      ]
     },
     "execution_count": 79,
     "metadata": {},
     "output_type": "execute_result"
    }
   ],
   "source": [
    "Intersection_And  #in this case only common elements are displayed"
   ]
  },
  {
   "cell_type": "markdown",
   "id": "d6b95a64",
   "metadata": {},
   "source": [
    "## The 'IN' Operator----Returns True if a sequence with the specified value is present in the object"
   ]
  },
  {
   "cell_type": "code",
   "execution_count": 28,
   "id": "0780c5ed",
   "metadata": {},
   "outputs": [],
   "source": [
    "student_names = ['Tom','Dick','Harry','sarah','Nicole']"
   ]
  },
  {
   "cell_type": "code",
   "execution_count": 29,
   "id": "4742ef42",
   "metadata": {},
   "outputs": [
    {
     "data": {
      "text/plain": [
       "True"
      ]
     },
     "execution_count": 29,
     "metadata": {},
     "output_type": "execute_result"
    }
   ],
   "source": [
    "'Tom' in student_names"
   ]
  },
  {
   "cell_type": "code",
   "execution_count": 30,
   "id": "c018a420",
   "metadata": {},
   "outputs": [
    {
     "data": {
      "text/plain": [
       "False"
      ]
     },
     "execution_count": 30,
     "metadata": {},
     "output_type": "execute_result"
    }
   ],
   "source": [
    "'jenny' in student_names"
   ]
  },
  {
   "cell_type": "code",
   "execution_count": 8,
   "id": "afedfbd6",
   "metadata": {},
   "outputs": [],
   "source": [
    "word = 'sequence'"
   ]
  },
  {
   "cell_type": "code",
   "execution_count": 9,
   "id": "6e350f8e",
   "metadata": {},
   "outputs": [
    {
     "data": {
      "text/plain": [
       "'sequence'"
      ]
     },
     "execution_count": 9,
     "metadata": {},
     "output_type": "execute_result"
    }
   ],
   "source": [
    "word"
   ]
  },
  {
   "cell_type": "code",
   "execution_count": 6,
   "id": "8bb0af11",
   "metadata": {},
   "outputs": [
    {
     "data": {
      "text/plain": [
       "False"
      ]
     },
     "execution_count": 6,
     "metadata": {},
     "output_type": "execute_result"
    }
   ],
   "source": [
    "'t' in word"
   ]
  },
  {
   "cell_type": "code",
   "execution_count": 7,
   "id": "80622a51",
   "metadata": {},
   "outputs": [
    {
     "data": {
      "text/plain": [
       "True"
      ]
     },
     "execution_count": 7,
     "metadata": {},
     "output_type": "execute_result"
    }
   ],
   "source": [
    "'c' in word"
   ]
  },
  {
   "cell_type": "code",
   "execution_count": 10,
   "id": "b5a28efe",
   "metadata": {},
   "outputs": [],
   "source": [
    "list3 = [8,9,10,11]"
   ]
  },
  {
   "cell_type": "code",
   "execution_count": 11,
   "id": "9a380cd1",
   "metadata": {},
   "outputs": [],
   "source": [
    "string2 = 'hello world'"
   ]
  },
  {
   "cell_type": "code",
   "execution_count": 12,
   "id": "5610094c",
   "metadata": {},
   "outputs": [],
   "source": [
    "tuple3 =(99,89,79,69)"
   ]
  },
  {
   "cell_type": "code",
   "execution_count": 13,
   "id": "b67e12ce",
   "metadata": {},
   "outputs": [
    {
     "name": "stdout",
     "output_type": "stream",
     "text": [
      "True\n"
     ]
    }
   ],
   "source": [
    "print(11 in list3)"
   ]
  },
  {
   "cell_type": "code",
   "execution_count": 14,
   "id": "c84422fc",
   "metadata": {},
   "outputs": [
    {
     "data": {
      "text/plain": [
       "False"
      ]
     },
     "execution_count": 14,
     "metadata": {},
     "output_type": "execute_result"
    }
   ],
   "source": [
    "77 in list3"
   ]
  },
  {
   "cell_type": "code",
   "execution_count": 15,
   "id": "8d21b510",
   "metadata": {},
   "outputs": [
    {
     "data": {
      "text/plain": [
       "True"
      ]
     },
     "execution_count": 15,
     "metadata": {},
     "output_type": "execute_result"
    }
   ],
   "source": [
    "79 in tuple3"
   ]
  },
  {
   "cell_type": "code",
   "execution_count": 16,
   "id": "65c920ed",
   "metadata": {},
   "outputs": [
    {
     "data": {
      "text/plain": [
       "False"
      ]
     },
     "execution_count": 16,
     "metadata": {},
     "output_type": "execute_result"
    }
   ],
   "source": [
    "79 not in tuple3"
   ]
  },
  {
   "cell_type": "markdown",
   "id": "13f1270b",
   "metadata": {},
   "source": [
    "## Arithmetic operators are used with numeric values to perform common mathematical operations: the plus operator produces a tuple,list or string which is a concatenation of its arguments.\n",
    "\n"
   ]
  },
  {
   "cell_type": "code",
   "execution_count": 5,
   "id": "1ef20849",
   "metadata": {},
   "outputs": [],
   "source": [
    "scores1 = [67,66,50,47]\n",
    "scores2 = [70,80,90,47]\n",
    "\n"
   ]
  },
  {
   "cell_type": "code",
   "execution_count": 6,
   "id": "6a4944f1",
   "metadata": {},
   "outputs": [],
   "source": [
    "add_scores = scores1+scores2"
   ]
  },
  {
   "cell_type": "code",
   "execution_count": 7,
   "id": "02f4f105",
   "metadata": {},
   "outputs": [
    {
     "data": {
      "text/plain": [
       "[67, 66, 50, 47, 70, 80, 90, 47]"
      ]
     },
     "execution_count": 7,
     "metadata": {},
     "output_type": "execute_result"
    }
   ],
   "source": [
    "add_scores"
   ]
  },
  {
   "cell_type": "code",
   "execution_count": 11,
   "id": "dfa254e3",
   "metadata": {},
   "outputs": [
    {
     "data": {
      "text/plain": [
       "'allen Parker'"
      ]
     },
     "execution_count": 11,
     "metadata": {},
     "output_type": "execute_result"
    }
   ],
   "source": [
    "first_name = 'allen'\n",
    "last_name = 'Parker'\n",
    "full_name = first_name +\" \"+last_name\n",
    "full_name"
   ]
  },
  {
   "cell_type": "markdown",
   "id": "c61b0a96",
   "metadata": {},
   "source": [
    "## The multiplication operator produces a new tuple,list or string that repeats the original content. The operator '*' does not perform actual multiplication,but just repeats the content for a specific number of times."
   ]
  },
  {
   "cell_type": "code",
   "execution_count": 17,
   "id": "a865baba",
   "metadata": {},
   "outputs": [
    {
     "data": {
      "text/plain": [
       "(12, 24, 36, 12, 24, 36, 12, 24, 36)"
      ]
     },
     "execution_count": 17,
     "metadata": {},
     "output_type": "execute_result"
    }
   ],
   "source": [
    "age = (12,24,36)*3\n",
    "age"
   ]
  },
  {
   "cell_type": "code",
   "execution_count": 18,
   "id": "034e2f87",
   "metadata": {},
   "outputs": [
    {
     "data": {
      "text/plain": [
       "[101, 202, 444, 101, 202, 444]"
      ]
     },
     "execution_count": 18,
     "metadata": {},
     "output_type": "execute_result"
    }
   ],
   "source": [
    "#using a list\n",
    "ID = [101,202,444]*2\n",
    "ID"
   ]
  },
  {
   "cell_type": "code",
   "execution_count": 19,
   "id": "f56f1e5b",
   "metadata": {},
   "outputs": [
    {
     "data": {
      "text/plain": [
       "'friendfriendfriend'"
      ]
     },
     "execution_count": 19,
     "metadata": {},
     "output_type": "execute_result"
    }
   ],
   "source": [
    "#USING A STRING\n",
    "name = 'friend'*3\n",
    "name"
   ]
  },
  {
   "cell_type": "markdown",
   "id": "2c5ccdd4",
   "metadata": {},
   "source": [
    "## Functions are the primary and most important method to do organised coding and can be reused. It starts with the 'def' keyword,and the outcome of a function is obtained by the Return statement. Arguments within the parenthesis are basically the tasks assigned to the function."
   ]
  },
  {
   "cell_type": "markdown",
   "id": "62f6dbd2",
   "metadata": {},
   "source": [
    "### We use 'def' to create a function,and post that we give it a name."
   ]
  },
  {
   "cell_type": "code",
   "execution_count": 16,
   "id": "f3483a55",
   "metadata": {},
   "outputs": [],
   "source": [
    "#IN PYTHON A FUNCTION IS DEFINED USING 'DEF' KEYWORD\n",
    "#TO CALL A FUNCTION USE THE FUNCTION NAME FOLLOWED BY A PARENTHESIS()\n",
    "def add_two_numbers(num1,num2):\n",
    "        return num1+num2\n",
    "number1=23\n",
    "number2=47.5\n",
    "result = add_two_numbers(number1,number2)\n"
   ]
  },
  {
   "cell_type": "code",
   "execution_count": 17,
   "id": "0764cf49",
   "metadata": {},
   "outputs": [
    {
     "data": {
      "text/plain": [
       "70.5"
      ]
     },
     "execution_count": 17,
     "metadata": {},
     "output_type": "execute_result"
    }
   ],
   "source": [
    "result"
   ]
  },
  {
   "cell_type": "code",
   "execution_count": 3,
   "id": "3d628ac7",
   "metadata": {},
   "outputs": [
    {
     "name": "stdout",
     "output_type": "stream",
     "text": [
      "Bruce Lee\n"
     ]
    }
   ],
   "source": [
    "#A parameter is the variable listed inside the parentheses in the function definition.(fname,lname)\n",
    "#An argument is the value that is sent to the function when it is called.(bruce,lee)\n",
    "\n",
    "def my_function(fname, lname):\n",
    "  print(fname + \" \" + lname)\n",
    "\n",
    "my_function(\"Bruce\", \"Lee\")\n"
   ]
  },
  {
   "cell_type": "code",
   "execution_count": 6,
   "id": "b45735c3",
   "metadata": {},
   "outputs": [],
   "source": [
    "def profile():         #no parameters are mentioned\n",
    "    age=21\n",
    "    height=5.5\n",
    "    weight=54\n",
    "    return age,height    #age and weight is the outcome we want,defined by return statement\n",
    "age, height = profile()  #We call the function using function name"
   ]
  },
  {
   "cell_type": "code",
   "execution_count": 7,
   "id": "54ec8d13",
   "metadata": {},
   "outputs": [
    {
     "name": "stdout",
     "output_type": "stream",
     "text": [
      "21 5.5\n"
     ]
    }
   ],
   "source": [
    "print (age, height)"
   ]
  },
  {
   "cell_type": "code",
   "execution_count": 2,
   "id": "e3e96cad",
   "metadata": {},
   "outputs": [
    {
     "name": "stdout",
     "output_type": "stream",
     "text": [
      "The stats are 70,50\n"
     ]
    }
   ],
   "source": [
    "def profile(weight,age):\n",
    "    print(f\"The stats are {weight},{age}\")\n",
    "profile(70,50)\n",
    "\n",
    "#f stands for formatted strings. \n",
    "#these strings contain replacement fields.these replacement fields are limited by curly brackets."
   ]
  },
  {
   "cell_type": "markdown",
   "id": "ce28d5e5",
   "metadata": {},
   "source": [
    "## Inbuilt Functions"
   ]
  },
  {
   "cell_type": "markdown",
   "id": "92094cc1",
   "metadata": {},
   "source": [
    "### The enumerate() function takes a collection (e.g. a tuple) and returns it as an enumerate object.The enumerate() function adds a counter as the key of the enumerate object. Basically it creates an index of data so that we can create a data map"
   ]
  },
  {
   "cell_type": "code",
   "execution_count": 32,
   "id": "2ad433a6",
   "metadata": {},
   "outputs": [
    {
     "name": "stdout",
     "output_type": "stream",
     "text": [
      "[(0, 'apple'), (1, 'banana'), (2, 'cherry')]\n"
     ]
    }
   ],
   "source": [
    "x = ('apple', 'banana', 'cherry')\n",
    "y = enumerate(x)\n",
    "print(list(y))     #We get the output as a list"
   ]
  },
  {
   "cell_type": "code",
   "execution_count": 2,
   "id": "c313190e",
   "metadata": {},
   "outputs": [
    {
     "name": "stdout",
     "output_type": "stream",
     "text": [
      "[(0, 'A'), (1, 'b'), (2, 'c'), (3, 'd')]\n"
     ]
    }
   ],
   "source": [
    "my_List=['A','b','c','d']\n",
    "z =enumerate(my_List)\n",
    "print(list(z))"
   ]
  },
  {
   "cell_type": "code",
   "execution_count": 4,
   "id": "494d0e42",
   "metadata": {},
   "outputs": [],
   "source": [
    "# We will first start with a list of cities\n",
    "city_list = ['Bangkok','Paris','Lahore','Moscow','Cairo']"
   ]
  },
  {
   "cell_type": "code",
   "execution_count": 35,
   "id": "12be7d5c",
   "metadata": {},
   "outputs": [
    {
     "name": "stdout",
     "output_type": "stream",
     "text": [
      "0 Bangkok\n",
      "1 Paris\n",
      "2 Lahore\n",
      "3 Moscow\n",
      "4 Cairo\n"
     ]
    }
   ],
   "source": [
    "#Now we use the enumerate function to create an index of the data,we want the index first,so we write'position'\n",
    "for position,name in enumerate(city_list):\n",
    "    print(position,name)\n"
   ]
  },
  {
   "cell_type": "code",
   "execution_count": 6,
   "id": "32392fdc",
   "metadata": {},
   "outputs": [],
   "source": [
    "#We create a data map now,using a dict\n",
    "city_map = dict((name,position) for position,name in enumerate (city_list)) #enumerate function gives index first"
   ]
  },
  {
   "cell_type": "code",
   "execution_count": 7,
   "id": "8fbcc2d2",
   "metadata": {},
   "outputs": [
    {
     "data": {
      "text/plain": [
       "{'Bangkok': 0, 'Paris': 1, 'Lahore': 2, 'Moscow': 3, 'Cairo': 4}"
      ]
     },
     "execution_count": 7,
     "metadata": {},
     "output_type": "execute_result"
    }
   ],
   "source": [
    "city_map"
   ]
  },
  {
   "cell_type": "markdown",
   "id": "2113a331",
   "metadata": {},
   "source": [
    "## Sort function- sorts numeric and string values"
   ]
  },
  {
   "cell_type": "code",
   "execution_count": 8,
   "id": "bb1a823d",
   "metadata": {},
   "outputs": [
    {
     "name": "stdout",
     "output_type": "stream",
     "text": [
      "['e', 'q', 'r', 't', 'w', 'y']\n"
     ]
    }
   ],
   "source": [
    "x = ['q', 'w', 'r', 'e', 't', 'y']\n",
    "print(sorted(x))"
   ]
  },
  {
   "cell_type": "code",
   "execution_count": 1,
   "id": "9e9fae20",
   "metadata": {},
   "outputs": [
    {
     "name": "stdout",
     "output_type": "stream",
     "text": [
      "[1, 2, 11]\n"
     ]
    }
   ],
   "source": [
    "a = (1, 11, 2)\n",
    "x = sorted(a)\n",
    "print(x)"
   ]
  },
  {
   "cell_type": "code",
   "execution_count": 9,
   "id": "1d43a9d6",
   "metadata": {},
   "outputs": [
    {
     "name": "stdout",
     "output_type": "stream",
     "text": [
      "['h', 'g', 'f', 'e', 'd', 'c', 'b', 'a']\n"
     ]
    }
   ],
   "source": [
    "#Now sorting in the descending order\n",
    "a = (\"h\", \"b\", \"a\", \"c\", \"f\", \"d\", \"e\", \"g\")\n",
    "x = sorted(a, reverse=True)\n",
    "print(x)"
   ]
  },
  {
   "cell_type": "markdown",
   "id": "b77351c7",
   "metadata": {},
   "source": [
    "## Reverse and Zip functions"
   ]
  },
  {
   "cell_type": "code",
   "execution_count": 10,
   "id": "34e06551",
   "metadata": {},
   "outputs": [
    {
     "data": {
      "text/plain": [
       "[10, 9, 8, 7, 6, 5]"
      ]
     },
     "execution_count": 10,
     "metadata": {},
     "output_type": "execute_result"
    }
   ],
   "source": [
    "#Reverse function is used to reverse the list of elements in a list\n",
    "num_list=[5,6,7,8,9,10]\n",
    "list(reversed(num_list))"
   ]
  },
  {
   "cell_type": "code",
   "execution_count": 11,
   "id": "a5b6fc20",
   "metadata": {},
   "outputs": [
    {
     "data": {
      "text/plain": [
       "[('maths', 'one'),\n",
       " ('statistics', 'two'),\n",
       " ('science', 'three'),\n",
       " ('economics', 'four')]"
      ]
     },
     "execution_count": 11,
     "metadata": {},
     "output_type": "execute_result"
    }
   ],
   "source": [
    "#Zip functions are used to pair elements of two lists\n",
    "subjects =['maths','statistics','science','economics']\n",
    "subject_num = ['one','two','three','four']\n",
    "all_subjects = list(zip(subjects,subject_num))   #Changed code for python 3\n",
    "all_subjects"
   ]
  },
  {
   "cell_type": "code",
   "execution_count": 8,
   "id": "090e20ff",
   "metadata": {},
   "outputs": [],
   "source": [
    "\n",
    "subjects =['maths','statistics','science','economics']\n",
    "subject_num = ['one','two','three','four']\n",
    "all_subjects = list(zip(subjects,subject_num))"
   ]
  },
  {
   "cell_type": "markdown",
   "id": "75dca99c",
   "metadata": {},
   "source": [
    "## Local scope,Global scope,Enclosing Scope,Built in "
   ]
  },
  {
   "cell_type": "markdown",
   "id": "0b43a4dd",
   "metadata": {},
   "source": [
    "#### local:\n",
    "\n"
   ]
  },
  {
   "cell_type": "code",
   "execution_count": 4,
   "id": "6c8ff661",
   "metadata": {},
   "outputs": [],
   "source": [
    "m = 'global variable'\n",
    "\n",
    "def myfirst():\n",
    "    m = 'inner variable'\n",
    "    print(m)\n",
    "\n",
    "\n",
    "    "
   ]
  },
  {
   "cell_type": "code",
   "execution_count": 6,
   "id": "02bec537",
   "metadata": {},
   "outputs": [
    {
     "name": "stdout",
     "output_type": "stream",
     "text": [
      "inner variable\n"
     ]
    }
   ],
   "source": [
    "myfirst()   #here m takes the local value,not the global value. So m has local scope"
   ]
  },
  {
   "cell_type": "markdown",
   "id": "791fc37b",
   "metadata": {},
   "source": [
    "#### Global:"
   ]
  },
  {
   "cell_type": "code",
   "execution_count": 7,
   "id": "a38e4695",
   "metadata": {},
   "outputs": [],
   "source": [
    "g = 'global variable'\n",
    "\n",
    "def mysecond():\n",
    "    q = 'inner variable'\n",
    "    print(g)\n",
    "\n"
   ]
  },
  {
   "cell_type": "code",
   "execution_count": 8,
   "id": "03f02d3e",
   "metadata": {},
   "outputs": [
    {
     "name": "stdout",
     "output_type": "stream",
     "text": [
      "global variable\n",
      "global variable\n"
     ]
    }
   ],
   "source": [
    "mysecond()\n",
    "print(g)"
   ]
  },
  {
   "cell_type": "code",
   "execution_count": 9,
   "id": "5020da8e",
   "metadata": {},
   "outputs": [
    {
     "name": "stdout",
     "output_type": "stream",
     "text": [
      "global variable\n"
     ]
    }
   ],
   "source": [
    "mysecond()"
   ]
  },
  {
   "cell_type": "markdown",
   "id": "d3e8441a",
   "metadata": {},
   "source": [
    "#### Enclosing Scope:"
   ]
  },
  {
   "cell_type": "code",
   "execution_count": 3,
   "id": "a9ad2fb9",
   "metadata": {},
   "outputs": [],
   "source": [
    "g = 'This is my global variable'\n",
    "\n",
    "def mythird():\n",
    "    encv = 'non global variable'\n",
    "    def myfourth():\n",
    "        nonlocal encv\n",
    "        print(encv)\n",
    "    myfourth()\n",
    "\n",
    "#the nonlocal function/keyword is inbuilt,and works on variables inside nested functions,where specifically \n",
    "# the variable IS NOT  to be a part of an inner function\n",
    "#enclosed scope is also called NON LOCAL scope. it usually refers to variables defined within the nested functions"
   ]
  },
  {
   "cell_type": "code",
   "execution_count": 4,
   "id": "13659e58",
   "metadata": {},
   "outputs": [
    {
     "name": "stdout",
     "output_type": "stream",
     "text": [
      "non global variable\n",
      "This is my global variable\n"
     ]
    }
   ],
   "source": [
    "mythird()\n",
    "print(g)"
   ]
  },
  {
   "cell_type": "code",
   "execution_count": 10,
   "id": "817f9c42",
   "metadata": {},
   "outputs": [],
   "source": [
    "first_dict = {'a':2,'b':4,'c':8}"
   ]
  },
  {
   "cell_type": "code",
   "execution_count": 11,
   "id": "6bd6f170",
   "metadata": {},
   "outputs": [
    {
     "data": {
      "text/plain": [
       "dict_keys(['a', 'b', 'c'])"
      ]
     },
     "execution_count": 11,
     "metadata": {},
     "output_type": "execute_result"
    }
   ],
   "source": [
    "first_dict.keys()"
   ]
  },
  {
   "cell_type": "code",
   "execution_count": 12,
   "id": "d8f8eb6d",
   "metadata": {},
   "outputs": [
    {
     "data": {
      "text/plain": [
       "dict_values([2, 4, 8])"
      ]
     },
     "execution_count": 12,
     "metadata": {},
     "output_type": "execute_result"
    }
   ],
   "source": [
    "first_dict.values()"
   ]
  },
  {
   "cell_type": "code",
   "execution_count": null,
   "id": "c78c9aa0",
   "metadata": {},
   "outputs": [],
   "source": []
  }
 ],
 "metadata": {
  "kernelspec": {
   "display_name": "Python 3 (ipykernel)",
   "language": "python",
   "name": "python3"
  },
  "language_info": {
   "codemirror_mode": {
    "name": "ipython",
    "version": 3
   },
   "file_extension": ".py",
   "mimetype": "text/x-python",
   "name": "python",
   "nbconvert_exporter": "python",
   "pygments_lexer": "ipython3",
   "version": "3.9.12"
  }
 },
 "nbformat": 4,
 "nbformat_minor": 5
}
